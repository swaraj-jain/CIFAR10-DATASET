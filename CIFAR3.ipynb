{
  "nbformat": 4,
  "nbformat_minor": 0,
  "metadata": {
    "colab": {
      "name": "Untitled17.ipynb",
      "provenance": [],
      "collapsed_sections": []
    },
    "kernelspec": {
      "name": "python3",
      "display_name": "Python 3"
    },
    "accelerator": "GPU"
  },
  "cells": [
    {
      "cell_type": "code",
      "metadata": {
        "id": "Je57VYRB-BVQ",
        "colab_type": "code",
        "colab": {}
      },
      "source": [
        "import numpy as np\n",
        "import pandas as pd\n",
        "from keras.datasets import cifar10\n",
        "from keras.models import Sequential\n",
        "from keras.layers import Conv2D, MaxPooling2D, Flatten, Dense, InputLayer, BatchNormalization, Dropout\n",
        "from keras.utils import np_utils\n",
        "from keras.applications import VGG16\n",
        "import matplotlib.pyplot as plt\n",
        "from matplotlib.pyplot import imshow\n",
        "from tensorflow.keras.applications.resnet50 import ResNet50\n",
        "from tensorflow.keras.applications.inception_v3 import InceptionV3\n",
        "from tensorflow.keras.preprocessing import image\n",
        "from tensorflow.keras.models import Model\n",
        "from tensorflow.keras.layers import Dense, GlobalAveragePooling2D\n",
        "from keras.regularizers import l2\n",
        "from keras.preprocessing.image import ImageDataGenerator"
      ],
      "execution_count": 1,
      "outputs": []
    },
    {
      "cell_type": "code",
      "metadata": {
        "id": "oxiSUgfx-MjU",
        "colab_type": "code",
        "colab": {
          "base_uri": "https://localhost:8080/",
          "height": 51
        },
        "outputId": "40daff52-28b8-4876-a6b5-4dcaa30e5fae"
      },
      "source": [
        "(X_train, y_train), (X_test, y_test) = cifar10.load_data()"
      ],
      "execution_count": 2,
      "outputs": [
        {
          "output_type": "stream",
          "text": [
            "Downloading data from https://www.cs.toronto.edu/~kriz/cifar-10-python.tar.gz\n",
            "170500096/170498071 [==============================] - 11s 0us/step\n"
          ],
          "name": "stdout"
        }
      ]
    },
    {
      "cell_type": "code",
      "metadata": {
        "id": "NNL5bXyR-uDC",
        "colab_type": "code",
        "colab": {
          "base_uri": "https://localhost:8080/",
          "height": 34
        },
        "outputId": "279e499c-5771-4b33-8553-101ef2de6e32"
      },
      "source": [
        "X_train.shape"
      ],
      "execution_count": 3,
      "outputs": [
        {
          "output_type": "execute_result",
          "data": {
            "text/plain": [
              "(50000, 32, 32, 3)"
            ]
          },
          "metadata": {
            "tags": []
          },
          "execution_count": 3
        }
      ]
    },
    {
      "cell_type": "code",
      "metadata": {
        "id": "xlXlzBkh-yvG",
        "colab_type": "code",
        "colab": {
          "base_uri": "https://localhost:8080/",
          "height": 34
        },
        "outputId": "fd4d7ecd-354d-4f76-f404-392ab2c876f2"
      },
      "source": [
        "y_train.shape"
      ],
      "execution_count": 4,
      "outputs": [
        {
          "output_type": "execute_result",
          "data": {
            "text/plain": [
              "(50000, 1)"
            ]
          },
          "metadata": {
            "tags": []
          },
          "execution_count": 4
        }
      ]
    },
    {
      "cell_type": "code",
      "metadata": {
        "id": "BZHdc0wd-1Dp",
        "colab_type": "code",
        "colab": {
          "base_uri": "https://localhost:8080/",
          "height": 34
        },
        "outputId": "5e1b9ee9-83e6-451b-8e2d-d70e50d0abc8"
      },
      "source": [
        "X_test.shape"
      ],
      "execution_count": 5,
      "outputs": [
        {
          "output_type": "execute_result",
          "data": {
            "text/plain": [
              "(10000, 32, 32, 3)"
            ]
          },
          "metadata": {
            "tags": []
          },
          "execution_count": 5
        }
      ]
    },
    {
      "cell_type": "code",
      "metadata": {
        "id": "zOV5sERTJ_nd",
        "colab_type": "code",
        "colab": {
          "base_uri": "https://localhost:8080/",
          "height": 283
        },
        "outputId": "fb6b4a16-0efc-4eba-8d00-cc6c8757ee56"
      },
      "source": [
        "plt.imshow(X_train[0])"
      ],
      "execution_count": 6,
      "outputs": [
        {
          "output_type": "execute_result",
          "data": {
            "text/plain": [
              "<matplotlib.image.AxesImage at 0x7efbb54f00f0>"
            ]
          },
          "metadata": {
            "tags": []
          },
          "execution_count": 6
        },
        {
          "output_type": "display_data",
          "data": {
            "image/png": "[encoded data removed]",
            "text/plain": [
              "<Figure size 432x288 with 1 Axes>"
            ]
          },
          "metadata": {
            "tags": [],
            "needs_background": "light"
          }
        }
      ]
    },
    {
      "cell_type": "code",
      "metadata": {
        "id": "9Wao42mU-3kr",
        "colab_type": "code",
        "colab": {}
      },
      "source": [
        "X_train=X_train.astype('float32')\n",
        "X_test=X_test.astype('float32')\n",
        "X_train/=255\n",
        "X_test/=255"
      ],
      "execution_count": 7,
      "outputs": []
    },
    {
      "cell_type": "code",
      "metadata": {
        "id": "SMWC2iJjKJNH",
        "colab_type": "code",
        "colab": {
          "base_uri": "https://localhost:8080/",
          "height": 283
        },
        "outputId": "a848b19d-89fa-45a4-95bb-2fd3ba13667b"
      },
      "source": [
        "plt.imshow(X_train[0])"
      ],
      "execution_count": 8,
      "outputs": [
        {
          "output_type": "execute_result",
          "data": {
            "text/plain": [
              "<matplotlib.image.AxesImage at 0x7efbb4fbaf98>"
            ]
          },
          "metadata": {
            "tags": []
          },
          "execution_count": 8
        },
        {
          "output_type": "display_data",
          "data": {
            "image/png": "[encoded data removed]",
            "text/plain": [
              "<Figure size 432x288 with 1 Axes>"
            ]
          },
          "metadata": {
            "tags": [],
            "needs_background": "light"
          }
        }
      ]
    },
    {
      "cell_type": "markdown",
      "metadata": {
        "id": "tCsfOjBaBgdw",
        "colab_type": "text"
      },
      "source": [
        "\n",
        "one-hot encoding is done to coonert the given data to categorical data"
      ]
    },
    {
      "cell_type": "code",
      "metadata": {
        "id": "MhQfptR9_T0q",
        "colab_type": "code",
        "colab": {}
      },
      "source": [
        "Y_train = np_utils.to_categorical(y_train, 10)\n",
        "Y_test = np_utils.to_categorical(y_test, 10)"
      ],
      "execution_count": 9,
      "outputs": []
    },
    {
      "cell_type": "code",
      "metadata": {
        "id": "hMuBCt_YAbGg",
        "colab_type": "code",
        "colab": {
          "base_uri": "https://localhost:8080/",
          "height": 34
        },
        "outputId": "8e73d207-1bec-48d0-82a6-63800c457867"
      },
      "source": [
        "print(y_train[20])"
      ],
      "execution_count": 10,
      "outputs": [
        {
          "output_type": "stream",
          "text": [
            "[4]\n"
          ],
          "name": "stdout"
        }
      ]
    },
    {
      "cell_type": "code",
      "metadata": {
        "id": "xbu8QXsYAicf",
        "colab_type": "code",
        "colab": {
          "base_uri": "https://localhost:8080/",
          "height": 34
        },
        "outputId": "a72e5125-3481-4017-ed30-b2ec180cb605"
      },
      "source": [
        "print(Y_train[2301])"
      ],
      "execution_count": 11,
      "outputs": [
        {
          "output_type": "stream",
          "text": [
            "[0. 0. 0. 0. 0. 0. 0. 1. 0. 0.]\n"
          ],
          "name": "stdout"
        }
      ]
    },
    {
      "cell_type": "markdown",
      "metadata": {
        "id": "KzOnsAirBtkU",
        "colab_type": "text"
      },
      "source": [
        "Initaliging the sequential Model"
      ]
    },
    {
      "cell_type": "code",
      "metadata": {
        "id": "QoQXcawxB02a",
        "colab_type": "code",
        "colab": {
          "base_uri": "https://localhost:8080/",
          "height": 867
        },
        "outputId": "e399d2b5-1fcd-4885-eea8-ad75d6b9c2e1"
      },
      "source": [
        "model = Sequential()\n",
        "model.add(Conv2D(32, (3, 3), activation='relu', kernel_initializer='he_uniform', padding='same', input_shape=(32, 32, 3)))\n",
        "model.add(Conv2D(32, (3, 3), activation='relu', kernel_initializer='he_uniform', padding='same'))\n",
        "model.add(MaxPooling2D((2, 2)))\n",
        "model.add(Dropout(0.3))\n",
        "model.add(BatchNormalization(axis=3))\n",
        "model.add(Conv2D(64, (3, 3), activation='relu', kernel_initializer='he_uniform', padding='same'))\n",
        "model.add(Conv2D(64, (3, 3), activation='relu', kernel_initializer='he_uniform', padding='same'))\n",
        "model.add(MaxPooling2D((2, 2)))\n",
        "model.add(Dropout(0.3))\n",
        "model.add(BatchNormalization(axis=3))\n",
        "model.add(Conv2D(128, (3, 3), activation='relu', kernel_initializer='he_uniform', padding='same'))\n",
        "model.add(Conv2D(128, (3, 3), activation='relu', kernel_initializer='he_uniform', padding='same'))\n",
        "model.add(MaxPooling2D((2, 2)))\n",
        "model.add(Dropout(0.3))\n",
        "model.add(BatchNormalization(axis=3))\n",
        "model.add(Flatten())\n",
        "model.add(Dense(512, activation='relu', kernel_initializer='he_uniform'))\n",
        "model.add(Dropout(0.5))\n",
        "model.add(Dense(128, activation='relu', kernel_initializer='he_uniform'))\n",
        "model.add(Dropout(0.5))\n",
        "model.add(Dense(10, activation='softmax'))\n",
        "model.summary()"
      ],
      "execution_count": 12,
      "outputs": [
        {
          "output_type": "stream",
          "text": [
            "Model: \"sequential\"\n",
            "_________________________________________________________________\n",
            "Layer (type)                 Output Shape              Param #   \n",
            "=================================================================\n",
            "conv2d (Conv2D)              (None, 32, 32, 32)        896       \n",
            "_________________________________________________________________\n",
            "conv2d_1 (Conv2D)            (None, 32, 32, 32)        9248      \n",
            "_________________________________________________________________\n",
            "max_pooling2d (MaxPooling2D) (None, 16, 16, 32)        0         \n",
            "_________________________________________________________________\n",
            "dropout (Dropout)            (None, 16, 16, 32)        0         \n",
            "_________________________________________________________________\n",
            "batch_normalization (BatchNo (None, 16, 16, 32)        128       \n",
            "_________________________________________________________________\n",
            "conv2d_2 (Conv2D)            (None, 16, 16, 64)        18496     \n",
            "_________________________________________________________________\n",
            "conv2d_3 (Conv2D)            (None, 16, 16, 64)        36928     \n",
            "_________________________________________________________________\n",
            "max_pooling2d_1 (MaxPooling2 (None, 8, 8, 64)          0         \n",
            "_________________________________________________________________\n",
            "dropout_1 (Dropout)          (None, 8, 8, 64)          0         \n",
            "_________________________________________________________________\n",
            "batch_normalization_1 (Batch (None, 8, 8, 64)          256       \n",
            "_________________________________________________________________\n",
            "conv2d_4 (Conv2D)            (None, 8, 8, 128)         73856     \n",
            "_________________________________________________________________\n",
            "conv2d_5 (Conv2D)            (None, 8, 8, 128)         147584    \n",
            "_________________________________________________________________\n",
            "max_pooling2d_2 (MaxPooling2 (None, 4, 4, 128)         0         \n",
            "_________________________________________________________________\n",
            "dropout_2 (Dropout)          (None, 4, 4, 128)         0         \n",
            "_________________________________________________________________\n",
            "batch_normalization_2 (Batch (None, 4, 4, 128)         512       \n",
            "_________________________________________________________________\n",
            "flatten (Flatten)            (None, 2048)              0         \n",
            "_________________________________________________________________\n",
            "dense (Dense)                (None, 512)               1049088   \n",
            "_________________________________________________________________\n",
            "dropout_3 (Dropout)          (None, 512)               0         \n",
            "_________________________________________________________________\n",
            "dense_1 (Dense)              (None, 128)               65664     \n",
            "_________________________________________________________________\n",
            "dropout_4 (Dropout)          (None, 128)               0         \n",
            "_________________________________________________________________\n",
            "dense_2 (Dense)              (None, 10)                1290      \n",
            "=================================================================\n",
            "Total params: 1,403,946\n",
            "Trainable params: 1,403,498\n",
            "Non-trainable params: 448\n",
            "_________________________________________________________________\n"
          ],
          "name": "stdout"
        }
      ]
    },
    {
      "cell_type": "code",
      "metadata": {
        "id": "kYWfD8MhHtBb",
        "colab_type": "code",
        "colab": {}
      },
      "source": [
        "model.compile(optimizer='adam', loss='categorical_crossentropy', metrics=['accuracy'])"
      ],
      "execution_count": 13,
      "outputs": []
    },
    {
      "cell_type": "code",
      "metadata": {
        "id": "Kot22PiOHeBZ",
        "colab_type": "code",
        "colab": {}
      },
      "source": [
        "datagen = ImageDataGenerator(width_shift_range=0.1, height_shift_range=0.1, horizontal_flip=True)"
      ],
      "execution_count": 14,
      "outputs": []
    },
    {
      "cell_type": "code",
      "metadata": {
        "id": "BjtEIQMLHjTg",
        "colab_type": "code",
        "colab": {}
      },
      "source": [
        "it_train = datagen.flow(X_train, Y_train, batch_size=64)"
      ],
      "execution_count": 15,
      "outputs": []
    },
    {
      "cell_type": "code",
      "metadata": {
        "id": "kLbi38hRHrOb",
        "colab_type": "code",
        "colab": {
          "base_uri": "https://localhost:8080/",
          "height": 1000
        },
        "outputId": "941ba3e7-6d51-4a4c-e12d-39cffe87e863"
      },
      "source": [
        "steps = int(X_train.shape[0] / 64)\n",
        "model.fit_generator(it_train, steps_per_epoch=steps, epochs=100, validation_data=(X_test, Y_test), verbose=1)"
      ],
      "execution_count": 16,
      "outputs": [
        {
          "output_type": "stream",
          "text": [
            "WARNING:tensorflow:From <ipython-input-16-551c6aa0123e>:2: Model.fit_generator (from tensorflow.python.keras.engine.training) is deprecated and will be removed in a future version.\n",
            "Instructions for updating:\n",
            "Please use Model.fit, which supports generators.\n",
            "Epoch 1/100\n",
            "781/781 [==============================] - 21s 27ms/step - loss: 1.9920 - accuracy: 0.2611 - val_loss: 2.0193 - val_accuracy: 0.3067\n",
            "Epoch 2/100\n",
            "781/781 [==============================] - 21s 27ms/step - loss: 1.6056 - accuracy: 0.4051 - val_loss: 1.4034 - val_accuracy: 0.4993\n",
            "Epoch 3/100\n",
            "781/781 [==============================] - 21s 27ms/step - loss: 1.4332 - accuracy: 0.4844 - val_loss: 1.3256 - val_accuracy: 0.5349\n",
            "Epoch 4/100\n",
            "781/781 [==============================] - 21s 27ms/step - loss: 1.2914 - accuracy: 0.5465 - val_loss: 0.9701 - val_accuracy: 0.6491\n",
            "Epoch 5/100\n",
            "781/781 [==============================] - 21s 27ms/step - loss: 1.1616 - accuracy: 0.5976 - val_loss: 1.0761 - val_accuracy: 0.6417\n",
            "Epoch 6/100\n",
            "781/781 [==============================] - 21s 27ms/step - loss: 1.0700 - accuracy: 0.6309 - val_loss: 1.0739 - val_accuracy: 0.6306\n",
            "Epoch 7/100\n",
            "781/781 [==============================] - 21s 27ms/step - loss: 1.0024 - accuracy: 0.6586 - val_loss: 0.8919 - val_accuracy: 0.7001\n",
            "Epoch 8/100\n",
            "781/781 [==============================] - 21s 27ms/step - loss: 0.9560 - accuracy: 0.6767 - val_loss: 0.8206 - val_accuracy: 0.7284\n",
            "Epoch 9/100\n",
            "781/781 [==============================] - 21s 27ms/step - loss: 0.9154 - accuracy: 0.6927 - val_loss: 0.7313 - val_accuracy: 0.7473\n",
            "Epoch 10/100\n",
            "781/781 [==============================] - 21s 27ms/step - loss: 0.8825 - accuracy: 0.7048 - val_loss: 0.6714 - val_accuracy: 0.7699\n",
            "Epoch 11/100\n",
            "781/781 [==============================] - 21s 27ms/step - loss: 0.8516 - accuracy: 0.7152 - val_loss: 0.7216 - val_accuracy: 0.7600\n",
            "Epoch 12/100\n",
            "781/781 [==============================] - 21s 27ms/step - loss: 0.8152 - accuracy: 0.7305 - val_loss: 0.7065 - val_accuracy: 0.7639\n",
            "Epoch 13/100\n",
            "781/781 [==============================] - 21s 27ms/step - loss: 0.7927 - accuracy: 0.7382 - val_loss: 0.6573 - val_accuracy: 0.7778\n",
            "Epoch 14/100\n",
            "781/781 [==============================] - 21s 27ms/step - loss: 0.7726 - accuracy: 0.7444 - val_loss: 0.9583 - val_accuracy: 0.7204\n",
            "Epoch 15/100\n",
            "781/781 [==============================] - 21s 27ms/step - loss: 0.7532 - accuracy: 0.7516 - val_loss: 0.6545 - val_accuracy: 0.7860\n",
            "Epoch 16/100\n",
            "781/781 [==============================] - 21s 27ms/step - loss: 0.7411 - accuracy: 0.7540 - val_loss: 0.6773 - val_accuracy: 0.7778\n",
            "Epoch 17/100\n",
            "781/781 [==============================] - 21s 27ms/step - loss: 0.7196 - accuracy: 0.7622 - val_loss: 0.7334 - val_accuracy: 0.7654\n",
            "Epoch 18/100\n",
            "781/781 [==============================] - 21s 27ms/step - loss: 0.7100 - accuracy: 0.7658 - val_loss: 0.5899 - val_accuracy: 0.8013\n",
            "Epoch 19/100\n",
            "781/781 [==============================] - 21s 27ms/step - loss: 0.6961 - accuracy: 0.7695 - val_loss: 0.6928 - val_accuracy: 0.7791\n",
            "Epoch 20/100\n",
            "781/781 [==============================] - 21s 27ms/step - loss: 0.6778 - accuracy: 0.7763 - val_loss: 0.6003 - val_accuracy: 0.8010\n",
            "Epoch 21/100\n",
            "781/781 [==============================] - 21s 27ms/step - loss: 0.6659 - accuracy: 0.7797 - val_loss: 0.5749 - val_accuracy: 0.8131\n",
            "Epoch 22/100\n",
            "781/781 [==============================] - 21s 27ms/step - loss: 0.6566 - accuracy: 0.7828 - val_loss: 0.5960 - val_accuracy: 0.8015\n",
            "Epoch 23/100\n",
            "781/781 [==============================] - 21s 27ms/step - loss: 0.6487 - accuracy: 0.7867 - val_loss: 0.5473 - val_accuracy: 0.8191\n",
            "Epoch 24/100\n",
            "781/781 [==============================] - 21s 27ms/step - loss: 0.6327 - accuracy: 0.7889 - val_loss: 0.5297 - val_accuracy: 0.8212\n",
            "Epoch 25/100\n",
            "781/781 [==============================] - 21s 27ms/step - loss: 0.6247 - accuracy: 0.7914 - val_loss: 0.5812 - val_accuracy: 0.8031\n",
            "Epoch 26/100\n",
            "781/781 [==============================] - 21s 27ms/step - loss: 0.6174 - accuracy: 0.7960 - val_loss: 0.5235 - val_accuracy: 0.8239\n",
            "Epoch 27/100\n",
            "781/781 [==============================] - 21s 27ms/step - loss: 0.6006 - accuracy: 0.8002 - val_loss: 0.5510 - val_accuracy: 0.8165\n",
            "Epoch 28/100\n",
            "781/781 [==============================] - 21s 27ms/step - loss: 0.5917 - accuracy: 0.8024 - val_loss: 0.5211 - val_accuracy: 0.8264\n",
            "Epoch 29/100\n",
            "781/781 [==============================] - 21s 27ms/step - loss: 0.5877 - accuracy: 0.8055 - val_loss: 0.5071 - val_accuracy: 0.8323\n",
            "Epoch 30/100\n",
            "781/781 [==============================] - 21s 27ms/step - loss: 0.5799 - accuracy: 0.8097 - val_loss: 0.5433 - val_accuracy: 0.8211\n",
            "Epoch 31/100\n",
            "781/781 [==============================] - 21s 27ms/step - loss: 0.5722 - accuracy: 0.8118 - val_loss: 0.5255 - val_accuracy: 0.8246\n",
            "Epoch 32/100\n",
            "781/781 [==============================] - 21s 27ms/step - loss: 0.5637 - accuracy: 0.8137 - val_loss: 0.4908 - val_accuracy: 0.8400\n",
            "Epoch 33/100\n",
            "781/781 [==============================] - 21s 27ms/step - loss: 0.5623 - accuracy: 0.8139 - val_loss: 0.4686 - val_accuracy: 0.8452\n",
            "Epoch 34/100\n",
            "781/781 [==============================] - 21s 27ms/step - loss: 0.5583 - accuracy: 0.8148 - val_loss: 0.5190 - val_accuracy: 0.8284\n",
            "Epoch 35/100\n",
            "781/781 [==============================] - 21s 27ms/step - loss: 0.5538 - accuracy: 0.8174 - val_loss: 0.4720 - val_accuracy: 0.8419\n",
            "Epoch 36/100\n",
            "781/781 [==============================] - 21s 27ms/step - loss: 0.5452 - accuracy: 0.8215 - val_loss: 0.4825 - val_accuracy: 0.8423\n",
            "Epoch 37/100\n",
            "781/781 [==============================] - 21s 27ms/step - loss: 0.5336 - accuracy: 0.8219 - val_loss: 0.4887 - val_accuracy: 0.8423\n",
            "Epoch 38/100\n",
            "781/781 [==============================] - 21s 27ms/step - loss: 0.5344 - accuracy: 0.8221 - val_loss: 0.5956 - val_accuracy: 0.8088\n",
            "Epoch 39/100\n",
            "781/781 [==============================] - 21s 27ms/step - loss: 0.5280 - accuracy: 0.8247 - val_loss: 0.4794 - val_accuracy: 0.8419\n",
            "Epoch 40/100\n",
            "781/781 [==============================] - 21s 27ms/step - loss: 0.5223 - accuracy: 0.8267 - val_loss: 0.4854 - val_accuracy: 0.8401\n",
            "Epoch 41/100\n",
            "781/781 [==============================] - 21s 27ms/step - loss: 0.5195 - accuracy: 0.8292 - val_loss: 0.4708 - val_accuracy: 0.8438\n",
            "Epoch 42/100\n",
            "781/781 [==============================] - 21s 27ms/step - loss: 0.5159 - accuracy: 0.8303 - val_loss: 0.4415 - val_accuracy: 0.8531\n",
            "Epoch 43/100\n",
            "781/781 [==============================] - 21s 27ms/step - loss: 0.5091 - accuracy: 0.8312 - val_loss: 0.4512 - val_accuracy: 0.8514\n",
            "Epoch 44/100\n",
            "781/781 [==============================] - 21s 27ms/step - loss: 0.5077 - accuracy: 0.8339 - val_loss: 0.4422 - val_accuracy: 0.8533\n",
            "Epoch 45/100\n",
            "781/781 [==============================] - 21s 27ms/step - loss: 0.5066 - accuracy: 0.8330 - val_loss: 0.4961 - val_accuracy: 0.8341\n",
            "Epoch 46/100\n",
            "781/781 [==============================] - 21s 27ms/step - loss: 0.5012 - accuracy: 0.8336 - val_loss: 0.4348 - val_accuracy: 0.8528\n",
            "Epoch 47/100\n",
            "781/781 [==============================] - 21s 27ms/step - loss: 0.4970 - accuracy: 0.8356 - val_loss: 0.4894 - val_accuracy: 0.8414\n",
            "Epoch 48/100\n",
            "781/781 [==============================] - 21s 27ms/step - loss: 0.4925 - accuracy: 0.8374 - val_loss: 0.4661 - val_accuracy: 0.8480\n",
            "Epoch 49/100\n",
            "781/781 [==============================] - 21s 27ms/step - loss: 0.4929 - accuracy: 0.8369 - val_loss: 0.4332 - val_accuracy: 0.8570\n",
            "Epoch 50/100\n",
            "781/781 [==============================] - 21s 27ms/step - loss: 0.4867 - accuracy: 0.8396 - val_loss: 0.4188 - val_accuracy: 0.8590\n",
            "Epoch 51/100\n",
            "781/781 [==============================] - 21s 27ms/step - loss: 0.4870 - accuracy: 0.8397 - val_loss: 0.4462 - val_accuracy: 0.8554\n",
            "Epoch 52/100\n",
            "781/781 [==============================] - 21s 27ms/step - loss: 0.4791 - accuracy: 0.8410 - val_loss: 0.4694 - val_accuracy: 0.8506\n",
            "Epoch 53/100\n",
            "781/781 [==============================] - 21s 27ms/step - loss: 0.4811 - accuracy: 0.8425 - val_loss: 0.4625 - val_accuracy: 0.8516\n",
            "Epoch 54/100\n",
            "781/781 [==============================] - 21s 27ms/step - loss: 0.4772 - accuracy: 0.8418 - val_loss: 0.4248 - val_accuracy: 0.8578\n",
            "Epoch 55/100\n",
            "781/781 [==============================] - 21s 27ms/step - loss: 0.4758 - accuracy: 0.8430 - val_loss: 0.4073 - val_accuracy: 0.8679\n",
            "Epoch 56/100\n",
            "781/781 [==============================] - 21s 27ms/step - loss: 0.4736 - accuracy: 0.8422 - val_loss: 0.4252 - val_accuracy: 0.8631\n",
            "Epoch 57/100\n",
            "781/781 [==============================] - 21s 27ms/step - loss: 0.4749 - accuracy: 0.8429 - val_loss: 0.3942 - val_accuracy: 0.8702\n",
            "Epoch 58/100\n",
            "781/781 [==============================] - 21s 27ms/step - loss: 0.4670 - accuracy: 0.8464 - val_loss: 0.5064 - val_accuracy: 0.8395\n",
            "Epoch 59/100\n",
            "781/781 [==============================] - 21s 27ms/step - loss: 0.4597 - accuracy: 0.8486 - val_loss: 0.4431 - val_accuracy: 0.8568\n",
            "Epoch 60/100\n",
            "781/781 [==============================] - 21s 27ms/step - loss: 0.4581 - accuracy: 0.8488 - val_loss: 0.4006 - val_accuracy: 0.8693\n",
            "Epoch 61/100\n",
            "781/781 [==============================] - 21s 27ms/step - loss: 0.4564 - accuracy: 0.8490 - val_loss: 0.4201 - val_accuracy: 0.8629\n",
            "Epoch 62/100\n",
            "781/781 [==============================] - 21s 27ms/step - loss: 0.4616 - accuracy: 0.8470 - val_loss: 0.4295 - val_accuracy: 0.8597\n",
            "Epoch 63/100\n",
            "781/781 [==============================] - 21s 27ms/step - loss: 0.4605 - accuracy: 0.8488 - val_loss: 0.4152 - val_accuracy: 0.8675\n",
            "Epoch 64/100\n",
            "781/781 [==============================] - 21s 27ms/step - loss: 0.4530 - accuracy: 0.8522 - val_loss: 0.4086 - val_accuracy: 0.8667\n",
            "Epoch 65/100\n",
            "781/781 [==============================] - 21s 27ms/step - loss: 0.4561 - accuracy: 0.8487 - val_loss: 0.4276 - val_accuracy: 0.8599\n",
            "Epoch 66/100\n",
            "781/781 [==============================] - 21s 27ms/step - loss: 0.4516 - accuracy: 0.8505 - val_loss: 0.4189 - val_accuracy: 0.8625\n",
            "Epoch 67/100\n",
            "781/781 [==============================] - 21s 27ms/step - loss: 0.4494 - accuracy: 0.8506 - val_loss: 0.4222 - val_accuracy: 0.8626\n",
            "Epoch 68/100\n",
            "781/781 [==============================] - 21s 27ms/step - loss: 0.4439 - accuracy: 0.8537 - val_loss: 0.4371 - val_accuracy: 0.8602\n",
            "Epoch 69/100\n",
            "781/781 [==============================] - 21s 27ms/step - loss: 0.4461 - accuracy: 0.8517 - val_loss: 0.4219 - val_accuracy: 0.8615\n",
            "Epoch 70/100\n",
            "781/781 [==============================] - 21s 26ms/step - loss: 0.4405 - accuracy: 0.8531 - val_loss: 0.4008 - val_accuracy: 0.8678\n",
            "Epoch 71/100\n",
            "781/781 [==============================] - 21s 26ms/step - loss: 0.4402 - accuracy: 0.8542 - val_loss: 0.3924 - val_accuracy: 0.8714\n",
            "Epoch 72/100\n",
            "781/781 [==============================] - 21s 27ms/step - loss: 0.4452 - accuracy: 0.8536 - val_loss: 0.5019 - val_accuracy: 0.8468\n",
            "Epoch 73/100\n",
            "781/781 [==============================] - 21s 27ms/step - loss: 0.4349 - accuracy: 0.8561 - val_loss: 0.4030 - val_accuracy: 0.8704\n",
            "Epoch 74/100\n",
            "781/781 [==============================] - 21s 27ms/step - loss: 0.4360 - accuracy: 0.8573 - val_loss: 0.4173 - val_accuracy: 0.8622\n",
            "Epoch 75/100\n",
            "781/781 [==============================] - 21s 27ms/step - loss: 0.4371 - accuracy: 0.8556 - val_loss: 0.4694 - val_accuracy: 0.8463\n",
            "Epoch 76/100\n",
            "781/781 [==============================] - 21s 27ms/step - loss: 0.4297 - accuracy: 0.8565 - val_loss: 0.4080 - val_accuracy: 0.8700\n",
            "Epoch 77/100\n",
            "781/781 [==============================] - 21s 27ms/step - loss: 0.4296 - accuracy: 0.8580 - val_loss: 0.4616 - val_accuracy: 0.8513\n",
            "Epoch 78/100\n",
            "781/781 [==============================] - 21s 27ms/step - loss: 0.4294 - accuracy: 0.8589 - val_loss: 0.4365 - val_accuracy: 0.8605\n",
            "Epoch 79/100\n",
            "781/781 [==============================] - 22s 28ms/step - loss: 0.4214 - accuracy: 0.8608 - val_loss: 0.4069 - val_accuracy: 0.8725\n",
            "Epoch 80/100\n",
            "781/781 [==============================] - 21s 27ms/step - loss: 0.4284 - accuracy: 0.8612 - val_loss: 0.4015 - val_accuracy: 0.8730\n",
            "Epoch 81/100\n",
            "781/781 [==============================] - 21s 27ms/step - loss: 0.4292 - accuracy: 0.8585 - val_loss: 0.4186 - val_accuracy: 0.8656\n",
            "Epoch 82/100\n",
            "781/781 [==============================] - 21s 27ms/step - loss: 0.4195 - accuracy: 0.8599 - val_loss: 0.3905 - val_accuracy: 0.8757\n",
            "Epoch 83/100\n",
            "781/781 [==============================] - 21s 27ms/step - loss: 0.4210 - accuracy: 0.8599 - val_loss: 0.4651 - val_accuracy: 0.8504\n",
            "Epoch 84/100\n",
            "781/781 [==============================] - 21s 27ms/step - loss: 0.4212 - accuracy: 0.8598 - val_loss: 0.4556 - val_accuracy: 0.8562\n",
            "Epoch 85/100\n",
            "781/781 [==============================] - 21s 27ms/step - loss: 0.4186 - accuracy: 0.8621 - val_loss: 0.4409 - val_accuracy: 0.8618\n",
            "Epoch 86/100\n",
            "781/781 [==============================] - 21s 27ms/step - loss: 0.4209 - accuracy: 0.8619 - val_loss: 0.3783 - val_accuracy: 0.8743\n",
            "Epoch 87/100\n",
            "781/781 [==============================] - 21s 27ms/step - loss: 0.4172 - accuracy: 0.8630 - val_loss: 0.4301 - val_accuracy: 0.8662\n",
            "Epoch 88/100\n",
            "781/781 [==============================] - 21s 27ms/step - loss: 0.4128 - accuracy: 0.8613 - val_loss: 0.4083 - val_accuracy: 0.8669\n",
            "Epoch 89/100\n",
            "781/781 [==============================] - 21s 27ms/step - loss: 0.4042 - accuracy: 0.8660 - val_loss: 0.4257 - val_accuracy: 0.8600\n",
            "Epoch 90/100\n",
            "781/781 [==============================] - 21s 27ms/step - loss: 0.4142 - accuracy: 0.8631 - val_loss: 0.4634 - val_accuracy: 0.8514\n",
            "Epoch 91/100\n",
            "781/781 [==============================] - 21s 27ms/step - loss: 0.4072 - accuracy: 0.8644 - val_loss: 0.4108 - val_accuracy: 0.8721\n",
            "Epoch 92/100\n",
            "781/781 [==============================] - 21s 27ms/step - loss: 0.4082 - accuracy: 0.8655 - val_loss: 0.4109 - val_accuracy: 0.8671\n",
            "Epoch 93/100\n",
            "781/781 [==============================] - 21s 27ms/step - loss: 0.4062 - accuracy: 0.8654 - val_loss: 0.3928 - val_accuracy: 0.8730\n",
            "Epoch 94/100\n",
            "781/781 [==============================] - 21s 28ms/step - loss: 0.4079 - accuracy: 0.8649 - val_loss: 0.3992 - val_accuracy: 0.8687\n",
            "Epoch 95/100\n",
            "781/781 [==============================] - 21s 27ms/step - loss: 0.4003 - accuracy: 0.8666 - val_loss: 0.3614 - val_accuracy: 0.8809\n",
            "Epoch 96/100\n",
            "781/781 [==============================] - 21s 27ms/step - loss: 0.4080 - accuracy: 0.8659 - val_loss: 0.3777 - val_accuracy: 0.8784\n",
            "Epoch 97/100\n",
            "781/781 [==============================] - 21s 27ms/step - loss: 0.4020 - accuracy: 0.8696 - val_loss: 0.4692 - val_accuracy: 0.8567\n",
            "Epoch 98/100\n",
            "781/781 [==============================] - 21s 27ms/step - loss: 0.4043 - accuracy: 0.8657 - val_loss: 0.3838 - val_accuracy: 0.8748\n",
            "Epoch 99/100\n",
            "781/781 [==============================] - 21s 27ms/step - loss: 0.3971 - accuracy: 0.8674 - val_loss: 0.3855 - val_accuracy: 0.8757\n",
            "Epoch 100/100\n",
            "781/781 [==============================] - 21s 27ms/step - loss: 0.4037 - accuracy: 0.8657 - val_loss: 0.3882 - val_accuracy: 0.8753\n"
          ],
          "name": "stdout"
        },
        {
          "output_type": "execute_result",
          "data": {
            "text/plain": [
              "<tensorflow.python.keras.callbacks.History at 0x7efbb5fb1e10>"
            ]
          },
          "metadata": {
            "tags": []
          },
          "execution_count": 16
        }
      ]
    },
    {
      "cell_type": "code",
      "metadata": {
        "id": "o2kF67AOV-rm",
        "colab_type": "code",
        "colab": {}
      },
      "source": [
        "def summarize_diagnostics(history):\n",
        "\t# plot loss\n",
        "\tplt.subplot(211)\n",
        "\tplt.title('Cross Entropy Loss')\n",
        "\tplt.plot(history.history['loss'], color='blue', label='train')\n",
        "\tplt.plot(history.history['val_loss'], color='orange', label='test')\n",
        "\t# plot accuracy\n",
        "\tplt.subplot(212)\n",
        "\tplt.title('Classification Accuracy')\n",
        "\tplt.plot(history.history['accuracy'], color='blue', label='train')\n",
        "\tplt.plot(history.history['val_accuracy'], color='orange', label='test')\n",
        "\t"
      ],
      "execution_count": 17,
      "outputs": []
    },
    {
      "cell_type": "markdown",
      "metadata": {
        "id": "UzXV_rQkJGw5",
        "colab_type": "text"
      },
      "source": [
        "Procedure help me to decrease overfit **:**\n",
        "\n",
        "1.   Using Dropout--Help me to increase a good test accuracy as it was seen the previous VGG16 model was getting completely overfit.\n",
        "2.   In pace of Random intilation of the Dense layer we can intilize by different way--he intilalizer   \n",
        "3.   I have also tried weight decay but that doesnot help me\n",
        "4.   using Dataaugmention test accuracy increase to 88%.The model is getting under fit,More traning can help to increase more accuracy.\n",
        "\n",
        "This can Also be tried out\n",
        "1.   Using Different CostFunction\n",
        "2.   Hyperparameter tunning by different ways(Grid,Random)\n",
        "\n",
        "\n"
      ]
    },
    {
      "cell_type": "code",
      "metadata": {
        "id": "bjOmLo2Gg1_X",
        "colab_type": "code",
        "colab": {}
      },
      "source": [
        ""
      ],
      "execution_count": null,
      "outputs": []
    }
  ]
}
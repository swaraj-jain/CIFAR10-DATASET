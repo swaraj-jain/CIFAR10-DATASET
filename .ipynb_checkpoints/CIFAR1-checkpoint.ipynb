{
 "cells": [
  {
   "cell_type": "code",
   "execution_count": 1,
   "metadata": {
    "colab": {},
    "colab_type": "code",
    "id": "Je57VYRB-BVQ"
   },
   "outputs": [],
   "source": [
    "import numpy as np\n",
    "import pandas as pd\n",
    "from keras.datasets import cifar10\n",
    "from keras.models import Sequential\n",
    "from keras.layers import Conv2D, MaxPool2D, Flatten, Dense, InputLayer, BatchNormalization, Dropout\n",
    "from keras.utils import np_utils\n",
    "from keras.applications import VGG16\n",
    "import matplotlib.pyplot as plt\n",
    "from matplotlib.pyplot import imshow\n",
    "from tensorflow.keras.applications.resnet50 import ResNet50\n",
    "from tensorflow.keras.applications.inception_v3 import InceptionV3\n",
    "from tensorflow.keras.preprocessing import image\n",
    "from tensorflow.keras.models import Model\n",
    "from tensorflow.keras.layers import Dense, GlobalAveragePooling2D"
   ]
  },
  {
   "cell_type": "code",
   "execution_count": 2,
   "metadata": {
    "colab": {},
    "colab_type": "code",
    "id": "oxiSUgfx-MjU"
   },
   "outputs": [],
   "source": [
    "(X_train, y_train), (X_test, y_test) = cifar10.load_data()"
   ]
  },
  {
   "cell_type": "code",
   "execution_count": 3,
   "metadata": {
    "colab": {
     "base_uri": "https://localhost:8080/",
     "height": 34
    },
    "colab_type": "code",
    "id": "NNL5bXyR-uDC",
    "outputId": "4ede614d-b970-4a1a-d7b5-852bf2b87dbe"
   },
   "outputs": [
    {
     "data": {
      "text/plain": [
       "(50000, 32, 32, 3)"
      ]
     },
     "execution_count": 3,
     "metadata": {
      "tags": []
     },
     "output_type": "execute_result"
    }
   ],
   "source": [
    "X_train.shape"
   ]
  },
  {
   "cell_type": "code",
   "execution_count": 4,
   "metadata": {
    "colab": {
     "base_uri": "https://localhost:8080/",
     "height": 34
    },
    "colab_type": "code",
    "id": "xlXlzBkh-yvG",
    "outputId": "71eb8340-e9ad-4b60-a1e5-f7eceaeb04e3"
   },
   "outputs": [
    {
     "data": {
      "text/plain": [
       "(50000, 1)"
      ]
     },
     "execution_count": 4,
     "metadata": {
      "tags": []
     },
     "output_type": "execute_result"
    }
   ],
   "source": [
    "y_train.shape"
   ]
  },
  {
   "cell_type": "code",
   "execution_count": 5,
   "metadata": {
    "colab": {
     "base_uri": "https://localhost:8080/",
     "height": 34
    },
    "colab_type": "code",
    "id": "BZHdc0wd-1Dp",
    "outputId": "9a3e99a3-6920-49b6-8271-2b8fe8223501"
   },
   "outputs": [
    {
     "data": {
      "text/plain": [
       "(10000, 32, 32, 3)"
      ]
     },
     "execution_count": 5,
     "metadata": {
      "tags": []
     },
     "output_type": "execute_result"
    }
   ],
   "source": [
    "\n",
    "X_test.shape"
   ]
  },
  {
   "cell_type": "code",
   "execution_count": 6,
   "metadata": {
    "colab": {
     "base_uri": "https://localhost:8080/",
     "height": 283
    },
    "colab_type": "code",
    "id": "zOV5sERTJ_nd",
    "outputId": "6bbf7bab-688f-45c2-a9dd-42def65ba848"
   },
   "outputs": [
    {
     "data": {
      "text/plain": [
       "<matplotlib.image.AxesImage at 0x7f827b00ea58>"
      ]
     },
     "execution_count": 6,
     "metadata": {
      "tags": []
     },
     "output_type": "execute_result"
    },
    {
     "data": {
      "image/png": "[encoded data removed]",
      "text/plain": [
       "<Figure size 432x288 with 1 Axes>"
      ]
     },
     "metadata": {
      "needs_background": "light",
      "tags": []
     },
     "output_type": "display_data"
    }
   ],
   "source": [
    "plt.imshow(X_train[0])"
   ]
  },
  {
   "cell_type": "code",
   "execution_count": 7,
   "metadata": {
    "colab": {},
    "colab_type": "code",
    "id": "9Wao42mU-3kr"
   },
   "outputs": [],
   "source": [
    "X_train=X_train.astype('float32')\n",
    "X_test=X_test.astype('float32')\n",
    "X_train/=255\n",
    "X_test/=255"
   ]
  },
  {
   "cell_type": "code",
   "execution_count": 8,
   "metadata": {
    "colab": {
     "base_uri": "https://localhost:8080/",
     "height": 283
    },
    "colab_type": "code",
    "id": "SMWC2iJjKJNH",
    "outputId": "292bb918-ea32-4a37-9eb3-25d0df6e816c"
   },
   "outputs": [
    {
     "data": {
      "text/plain": [
       "<matplotlib.image.AxesImage at 0x7f827afb0828>"
      ]
     },
     "execution_count": 8,
     "metadata": {
      "tags": []
     },
     "output_type": "execute_result"
    },
    {
     "data": {
      "image/png": "[encoded data removed]",
      "text/plain": [
       "<Figure size 432x288 with 1 Axes>"
      ]
     },
     "metadata": {
      "needs_background": "light",
      "tags": []
     },
     "output_type": "display_data"
    }
   ],
   "source": [
    "plt.imshow(X_train[0])"
   ]
  },
  {
   "cell_type": "markdown",
   "metadata": {
    "colab_type": "text",
    "id": "tCsfOjBaBgdw"
   },
   "source": [
    "\n",
    "one-hot encoding is done to coonert the given data to categorical data"
   ]
  },
  {
   "cell_type": "code",
   "execution_count": 9,
   "metadata": {
    "colab": {},
    "colab_type": "code",
    "id": "MhQfptR9_T0q"
   },
   "outputs": [],
   "source": [
    "Y_train = np_utils.to_categorical(y_train, 10)\n",
    "Y_test = np_utils.to_categorical(y_test, 10)"
   ]
  },
  {
   "cell_type": "code",
   "execution_count": 10,
   "metadata": {
    "colab": {
     "base_uri": "https://localhost:8080/",
     "height": 34
    },
    "colab_type": "code",
    "id": "hMuBCt_YAbGg",
    "outputId": "ff0b866d-873c-4ed4-ceda-0041836c86ca"
   },
   "outputs": [
    {
     "name": "stdout",
     "output_type": "stream",
     "text": [
      "[6]\n"
     ]
    }
   ],
   "source": [
    "print(y_train[0])"
   ]
  },
  {
   "cell_type": "code",
   "execution_count": 11,
   "metadata": {
    "colab": {
     "base_uri": "https://localhost:8080/",
     "height": 34
    },
    "colab_type": "code",
    "id": "xbu8QXsYAicf",
    "outputId": "254332b1-aa9f-48dc-c81f-0eda77682d50"
   },
   "outputs": [
    {
     "name": "stdout",
     "output_type": "stream",
     "text": [
      "[0. 0. 0. 0. 0. 0. 1. 0. 0. 0.]\n"
     ]
    }
   ],
   "source": [
    "print(Y_train[0])"
   ]
  },
  {
   "cell_type": "markdown",
   "metadata": {
    "colab_type": "text",
    "id": "KzOnsAirBtkU"
   },
   "source": [
    "Initaliging the sequential Model"
   ]
  },
  {
   "cell_type": "code",
   "execution_count": 12,
   "metadata": {
    "colab": {
     "base_uri": "https://localhost:8080/",
     "height": 799
    },
    "colab_type": "code",
    "id": "QoQXcawxB02a",
    "outputId": "0d049d50-bfa1-4736-e67e-729f359daa2c"
   },
   "outputs": [
    {
     "name": "stdout",
     "output_type": "stream",
     "text": [
      "Model: \"vgg16\"\n",
      "_________________________________________________________________\n",
      "Layer (type)                 Output Shape              Param #   \n",
      "=================================================================\n",
      "input_1 (InputLayer)         [(None, None, None, 3)]   0         \n",
      "_________________________________________________________________\n",
      "block1_conv1 (Conv2D)        (None, None, None, 64)    1792      \n",
      "_________________________________________________________________\n",
      "block1_conv2 (Conv2D)        (None, None, None, 64)    36928     \n",
      "_________________________________________________________________\n",
      "block1_pool (MaxPooling2D)   (None, None, None, 64)    0         \n",
      "_________________________________________________________________\n",
      "block2_conv1 (Conv2D)        (None, None, None, 128)   73856     \n",
      "_________________________________________________________________\n",
      "block2_conv2 (Conv2D)        (None, None, None, 128)   147584    \n",
      "_________________________________________________________________\n",
      "block2_pool (MaxPooling2D)   (None, None, None, 128)   0         \n",
      "_________________________________________________________________\n",
      "block3_conv1 (Conv2D)        (None, None, None, 256)   295168    \n",
      "_________________________________________________________________\n",
      "block3_conv2 (Conv2D)        (None, None, None, 256)   590080    \n",
      "_________________________________________________________________\n",
      "block3_conv3 (Conv2D)        (None, None, None, 256)   590080    \n",
      "_________________________________________________________________\n",
      "block3_pool (MaxPooling2D)   (None, None, None, 256)   0         \n",
      "_________________________________________________________________\n",
      "block4_conv1 (Conv2D)        (None, None, None, 512)   1180160   \n",
      "_________________________________________________________________\n",
      "block4_conv2 (Conv2D)        (None, None, None, 512)   2359808   \n",
      "_________________________________________________________________\n",
      "block4_conv3 (Conv2D)        (None, None, None, 512)   2359808   \n",
      "_________________________________________________________________\n",
      "block4_pool (MaxPooling2D)   (None, None, None, 512)   0         \n",
      "_________________________________________________________________\n",
      "block5_conv1 (Conv2D)        (None, None, None, 512)   2359808   \n",
      "_________________________________________________________________\n",
      "block5_conv2 (Conv2D)        (None, None, None, 512)   2359808   \n",
      "_________________________________________________________________\n",
      "block5_conv3 (Conv2D)        (None, None, None, 512)   2359808   \n",
      "_________________________________________________________________\n",
      "block5_pool (MaxPooling2D)   (None, None, None, 512)   0         \n",
      "=================================================================\n",
      "Total params: 14,714,688\n",
      "Trainable params: 14,714,688\n",
      "Non-trainable params: 0\n",
      "_________________________________________________________________\n"
     ]
    }
   ],
   "source": [
    "base_model = VGG16(weights='imagenet', include_top=False)\n",
    "base_model.summary()"
   ]
  },
  {
   "cell_type": "code",
   "execution_count": 13,
   "metadata": {
    "colab": {},
    "colab_type": "code",
    "id": "II8HVfnNGGsA"
   },
   "outputs": [],
   "source": [
    "x = base_model.output"
   ]
  },
  {
   "cell_type": "code",
   "execution_count": 14,
   "metadata": {
    "colab": {
     "base_uri": "https://localhost:8080/",
     "height": 34
    },
    "colab_type": "code",
    "id": "8G5oPG2topvV",
    "outputId": "71c214b8-5d3c-4ea6-9249-98112b10aace"
   },
   "outputs": [
    {
     "data": {
      "text/plain": [
       "TensorShape([None, None, None, 512])"
      ]
     },
     "execution_count": 14,
     "metadata": {
      "tags": []
     },
     "output_type": "execute_result"
    }
   ],
   "source": [
    "x.shape"
   ]
  },
  {
   "cell_type": "code",
   "execution_count": 15,
   "metadata": {
    "colab": {},
    "colab_type": "code",
    "id": "brscnorK8Vwu"
   },
   "outputs": [],
   "source": [
    "x = GlobalAveragePooling2D()(x)"
   ]
  },
  {
   "cell_type": "code",
   "execution_count": 16,
   "metadata": {
    "colab": {
     "base_uri": "https://localhost:8080/",
     "height": 34
    },
    "colab_type": "code",
    "id": "ii6Ia7cM8jFb",
    "outputId": "ca1eebe8-fc85-447c-c13f-94c0c22e3969"
   },
   "outputs": [
    {
     "data": {
      "text/plain": [
       "TensorShape([None, 512])"
      ]
     },
     "execution_count": 16,
     "metadata": {
      "tags": []
     },
     "output_type": "execute_result"
    }
   ],
   "source": [
    "x.shape"
   ]
  },
  {
   "cell_type": "code",
   "execution_count": 17,
   "metadata": {
    "colab": {},
    "colab_type": "code",
    "id": "VxyreFM5ostD"
   },
   "outputs": [],
   "source": [
    "x = Dense(128, activation='relu')(x)"
   ]
  },
  {
   "cell_type": "code",
   "execution_count": 18,
   "metadata": {
    "colab": {
     "base_uri": "https://localhost:8080/",
     "height": 34
    },
    "colab_type": "code",
    "id": "ufJRgx56ov8D",
    "outputId": "2f65f672-7011-4bc1-9f8e-4f920a7b68a8"
   },
   "outputs": [
    {
     "data": {
      "text/plain": [
       "TensorShape([None, 128])"
      ]
     },
     "execution_count": 18,
     "metadata": {
      "tags": []
     },
     "output_type": "execute_result"
    }
   ],
   "source": [
    "x.shape"
   ]
  },
  {
   "cell_type": "code",
   "execution_count": 19,
   "metadata": {
    "colab": {},
    "colab_type": "code",
    "id": "nLN4RUuXo0Gt"
   },
   "outputs": [],
   "source": [
    "predictions = Dense(10, activation='softmax')(x)"
   ]
  },
  {
   "cell_type": "code",
   "execution_count": 20,
   "metadata": {
    "colab": {},
    "colab_type": "code",
    "id": "7keTVIpTnVi9"
   },
   "outputs": [],
   "source": [
    "for layer in base_model.layers:\n",
    "    layer.trainable = False"
   ]
  },
  {
   "cell_type": "code",
   "execution_count": 21,
   "metadata": {
    "colab": {},
    "colab_type": "code",
    "id": "uFOm--ZcnNk-"
   },
   "outputs": [],
   "source": [
    "model = Model(inputs=base_model.input, outputs=predictions)"
   ]
  },
  {
   "cell_type": "code",
   "execution_count": 22,
   "metadata": {
    "colab": {},
    "colab_type": "code",
    "id": "kYWfD8MhHtBb"
   },
   "outputs": [],
   "source": [
    "model.compile(optimizer='adam', loss='categorical_crossentropy', metrics=['accuracy'])"
   ]
  },
  {
   "cell_type": "code",
   "execution_count": 23,
   "metadata": {
    "colab": {
     "base_uri": "https://localhost:8080/",
     "height": 901
    },
    "colab_type": "code",
    "id": "yEdcmDi9IGGO",
    "outputId": "e8657c63-eaab-4ad9-f575-bb680385c0e3"
   },
   "outputs": [
    {
     "name": "stdout",
     "output_type": "stream",
     "text": [
      "Model: \"functional_1\"\n",
      "_________________________________________________________________\n",
      "Layer (type)                 Output Shape              Param #   \n",
      "=================================================================\n",
      "input_1 (InputLayer)         [(None, None, None, 3)]   0         \n",
      "_________________________________________________________________\n",
      "block1_conv1 (Conv2D)        (None, None, None, 64)    1792      \n",
      "_________________________________________________________________\n",
      "block1_conv2 (Conv2D)        (None, None, None, 64)    36928     \n",
      "_________________________________________________________________\n",
      "block1_pool (MaxPooling2D)   (None, None, None, 64)    0         \n",
      "_________________________________________________________________\n",
      "block2_conv1 (Conv2D)        (None, None, None, 128)   73856     \n",
      "_________________________________________________________________\n",
      "block2_conv2 (Conv2D)        (None, None, None, 128)   147584    \n",
      "_________________________________________________________________\n",
      "block2_pool (MaxPooling2D)   (None, None, None, 128)   0         \n",
      "_________________________________________________________________\n",
      "block3_conv1 (Conv2D)        (None, None, None, 256)   295168    \n",
      "_________________________________________________________________\n",
      "block3_conv2 (Conv2D)        (None, None, None, 256)   590080    \n",
      "_________________________________________________________________\n",
      "block3_conv3 (Conv2D)        (None, None, None, 256)   590080    \n",
      "_________________________________________________________________\n",
      "block3_pool (MaxPooling2D)   (None, None, None, 256)   0         \n",
      "_________________________________________________________________\n",
      "block4_conv1 (Conv2D)        (None, None, None, 512)   1180160   \n",
      "_________________________________________________________________\n",
      "block4_conv2 (Conv2D)        (None, None, None, 512)   2359808   \n",
      "_________________________________________________________________\n",
      "block4_conv3 (Conv2D)        (None, None, None, 512)   2359808   \n",
      "_________________________________________________________________\n",
      "block4_pool (MaxPooling2D)   (None, None, None, 512)   0         \n",
      "_________________________________________________________________\n",
      "block5_conv1 (Conv2D)        (None, None, None, 512)   2359808   \n",
      "_________________________________________________________________\n",
      "block5_conv2 (Conv2D)        (None, None, None, 512)   2359808   \n",
      "_________________________________________________________________\n",
      "block5_conv3 (Conv2D)        (None, None, None, 512)   2359808   \n",
      "_________________________________________________________________\n",
      "block5_pool (MaxPooling2D)   (None, None, None, 512)   0         \n",
      "_________________________________________________________________\n",
      "global_average_pooling2d (Gl (None, 512)               0         \n",
      "_________________________________________________________________\n",
      "dense (Dense)                (None, 128)               65664     \n",
      "_________________________________________________________________\n",
      "dense_1 (Dense)              (None, 10)                1290      \n",
      "=================================================================\n",
      "Total params: 14,781,642\n",
      "Trainable params: 66,954\n",
      "Non-trainable params: 14,714,688\n",
      "_________________________________________________________________\n"
     ]
    }
   ],
   "source": [
    "model.summary()"
   ]
  },
  {
   "cell_type": "code",
   "execution_count": 24,
   "metadata": {
    "colab": {
     "base_uri": "https://localhost:8080/",
     "height": 714
    },
    "colab_type": "code",
    "id": "uTM9kpGrIJwc",
    "outputId": "433f71e3-6748-4828-cb5b-816feeaa4e52"
   },
   "outputs": [
    {
     "name": "stdout",
     "output_type": "stream",
     "text": [
      "Epoch 1/20\n",
      "1563/1563 [==============================] - 14s 9ms/step - loss: 1.3721 - accuracy: 0.5212\n",
      "Epoch 2/20\n",
      "1563/1563 [==============================] - 14s 9ms/step - loss: 1.1894 - accuracy: 0.5836\n",
      "Epoch 3/20\n",
      "1563/1563 [==============================] - 13s 9ms/step - loss: 1.1295 - accuracy: 0.6065\n",
      "Epoch 4/20\n",
      "1563/1563 [==============================] - 13s 9ms/step - loss: 1.0894 - accuracy: 0.6166\n",
      "Epoch 5/20\n",
      "1563/1563 [==============================] - 13s 9ms/step - loss: 1.0544 - accuracy: 0.6293\n",
      "Epoch 6/20\n",
      "1563/1563 [==============================] - 13s 8ms/step - loss: 1.0241 - accuracy: 0.6416\n",
      "Epoch 7/20\n",
      "1563/1563 [==============================] - 13s 8ms/step - loss: 0.9975 - accuracy: 0.6509\n",
      "Epoch 8/20\n",
      "1563/1563 [==============================] - 13s 9ms/step - loss: 0.9751 - accuracy: 0.6573\n",
      "Epoch 9/20\n",
      "1563/1563 [==============================] - 13s 9ms/step - loss: 0.9515 - accuracy: 0.6653\n",
      "Epoch 10/20\n",
      "1563/1563 [==============================] - 13s 8ms/step - loss: 0.9317 - accuracy: 0.6737\n",
      "Epoch 11/20\n",
      "1563/1563 [==============================] - 13s 8ms/step - loss: 0.9104 - accuracy: 0.6801\n",
      "Epoch 12/20\n",
      "1563/1563 [==============================] - 13s 8ms/step - loss: 0.8923 - accuracy: 0.6867\n",
      "Epoch 13/20\n",
      "1563/1563 [==============================] - 13s 8ms/step - loss: 0.8749 - accuracy: 0.6921\n",
      "Epoch 14/20\n",
      "1563/1563 [==============================] - 13s 8ms/step - loss: 0.8568 - accuracy: 0.6999\n",
      "Epoch 15/20\n",
      "1563/1563 [==============================] - 13s 8ms/step - loss: 0.8418 - accuracy: 0.7024\n",
      "Epoch 16/20\n",
      "1563/1563 [==============================] - 13s 9ms/step - loss: 0.8276 - accuracy: 0.7112\n",
      "Epoch 17/20\n",
      "1563/1563 [==============================] - 13s 8ms/step - loss: 0.8126 - accuracy: 0.7154\n",
      "Epoch 18/20\n",
      "1563/1563 [==============================] - 13s 8ms/step - loss: 0.7974 - accuracy: 0.7203\n",
      "Epoch 19/20\n",
      "1563/1563 [==============================] - 13s 8ms/step - loss: 0.7848 - accuracy: 0.7237\n",
      "Epoch 20/20\n",
      "1563/1563 [==============================] - 13s 8ms/step - loss: 0.7726 - accuracy: 0.7273\n"
     ]
    },
    {
     "data": {
      "text/plain": [
       "<tensorflow.python.keras.callbacks.History at 0x7f827b4ae748>"
      ]
     },
     "execution_count": 24,
     "metadata": {
      "tags": []
     },
     "output_type": "execute_result"
    }
   ],
   "source": [
    "model.fit(X_train, Y_train, epochs=20, batch_size=32)"
   ]
  },
  {
   "cell_type": "code",
   "execution_count": 25,
   "metadata": {
    "colab": {
     "base_uri": "https://localhost:8080/",
     "height": 340
    },
    "colab_type": "code",
    "id": "fDElEtuo2qva",
    "outputId": "da60f4aa-f99a-4e36-8f34-9e8f9ee8d191"
   },
   "outputs": [
    {
     "name": "stdout",
     "output_type": "stream",
     "text": [
      "0 input_1\n",
      "1 block1_conv1\n",
      "2 block1_conv2\n",
      "3 block1_pool\n",
      "4 block2_conv1\n",
      "5 block2_conv2\n",
      "6 block2_pool\n",
      "7 block3_conv1\n",
      "8 block3_conv2\n",
      "9 block3_conv3\n",
      "10 block3_pool\n",
      "11 block4_conv1\n",
      "12 block4_conv2\n",
      "13 block4_conv3\n",
      "14 block4_pool\n",
      "15 block5_conv1\n",
      "16 block5_conv2\n",
      "17 block5_conv3\n",
      "18 block5_pool\n"
     ]
    }
   ],
   "source": [
    "for i, layer in enumerate(base_model.layers):\n",
    "   print(i, layer.name)"
   ]
  },
  {
   "cell_type": "code",
   "execution_count": 26,
   "metadata": {
    "colab": {},
    "colab_type": "code",
    "id": "xD2GYyxN21R_"
   },
   "outputs": [],
   "source": [
    "for layer in model.layers:\n",
    "   layer.trainable = True"
   ]
  },
  {
   "cell_type": "code",
   "execution_count": 27,
   "metadata": {
    "colab": {},
    "colab_type": "code",
    "id": "177Hc-mN239t"
   },
   "outputs": [],
   "source": [
    "model.compile(optimizer='adam', loss='categorical_crossentropy', metrics=['accuracy'])"
   ]
  },
  {
   "cell_type": "code",
   "execution_count": 28,
   "metadata": {
    "colab": {
     "base_uri": "https://localhost:8080/",
     "height": 1000
    },
    "colab_type": "code",
    "id": "FFuHlbQ43Cm5",
    "outputId": "fac549fe-95f2-4dbf-f6f0-cff74da5a4ad"
   },
   "outputs": [
    {
     "name": "stdout",
     "output_type": "stream",
     "text": [
      "Epoch 1/30\n",
      "   1/1191 [..............................] - ETA: 0s - loss: 0.7474 - accuracy: 0.7381WARNING:tensorflow:Callbacks method `on_train_batch_end` is slow compared to the batch time (batch time: 0.0117s vs `on_train_batch_end` time: 0.0187s). Check your callbacks.\n",
      "1191/1191 [==============================] - 40s 33ms/step - loss: 1.9848 - accuracy: 0.2986 - val_loss: 1.5551 - val_accuracy: 0.3826\n",
      "Epoch 2/30\n",
      "1191/1191 [==============================] - 39s 33ms/step - loss: 1.2463 - accuracy: 0.5469 - val_loss: 1.0726 - val_accuracy: 0.6283\n",
      "Epoch 3/30\n",
      "1191/1191 [==============================] - 39s 33ms/step - loss: 0.9594 - accuracy: 0.6686 - val_loss: 0.9197 - val_accuracy: 0.6934\n",
      "Epoch 4/30\n",
      "1191/1191 [==============================] - 39s 33ms/step - loss: 0.8235 - accuracy: 0.7194 - val_loss: 0.8278 - val_accuracy: 0.7402\n",
      "Epoch 5/30\n",
      "1191/1191 [==============================] - 39s 33ms/step - loss: 0.7185 - accuracy: 0.7601 - val_loss: 0.7428 - val_accuracy: 0.7542\n",
      "Epoch 6/30\n",
      "1191/1191 [==============================] - 39s 33ms/step - loss: 0.6408 - accuracy: 0.7884 - val_loss: 0.7506 - val_accuracy: 0.7563\n",
      "Epoch 7/30\n",
      "1191/1191 [==============================] - 39s 33ms/step - loss: 0.5751 - accuracy: 0.8123 - val_loss: 0.8977 - val_accuracy: 0.7253\n",
      "Epoch 8/30\n",
      "1191/1191 [==============================] - 39s 33ms/step - loss: 0.5230 - accuracy: 0.8313 - val_loss: 0.6892 - val_accuracy: 0.7799\n",
      "Epoch 9/30\n",
      "1191/1191 [==============================] - 39s 33ms/step - loss: 0.4697 - accuracy: 0.8473 - val_loss: 0.6889 - val_accuracy: 0.7898\n",
      "Epoch 10/30\n",
      "1191/1191 [==============================] - 39s 33ms/step - loss: 0.4335 - accuracy: 0.8607 - val_loss: 0.7387 - val_accuracy: 0.7835\n",
      "Epoch 11/30\n",
      "1191/1191 [==============================] - 39s 33ms/step - loss: 0.4105 - accuracy: 0.8686 - val_loss: 0.6785 - val_accuracy: 0.7905\n",
      "Epoch 12/30\n",
      "1191/1191 [==============================] - 39s 33ms/step - loss: 0.3993 - accuracy: 0.8720 - val_loss: 0.7493 - val_accuracy: 0.8006\n",
      "Epoch 13/30\n",
      "1191/1191 [==============================] - 39s 33ms/step - loss: 0.4176 - accuracy: 0.8704 - val_loss: 0.7128 - val_accuracy: 0.7993\n",
      "Epoch 14/30\n",
      "1191/1191 [==============================] - 39s 33ms/step - loss: 0.3153 - accuracy: 0.8997 - val_loss: 0.7010 - val_accuracy: 0.8144\n",
      "Epoch 15/30\n",
      "1191/1191 [==============================] - 39s 33ms/step - loss: 0.3107 - accuracy: 0.9025 - val_loss: 0.6947 - val_accuracy: 0.8038\n",
      "Epoch 16/30\n",
      "1191/1191 [==============================] - 39s 33ms/step - loss: 0.2902 - accuracy: 0.9098 - val_loss: 0.7577 - val_accuracy: 0.7723\n",
      "Epoch 17/30\n",
      "1191/1191 [==============================] - 39s 33ms/step - loss: 0.3349 - accuracy: 0.8972 - val_loss: 1.2740 - val_accuracy: 0.6003\n",
      "Epoch 18/30\n",
      "1191/1191 [==============================] - 39s 33ms/step - loss: 0.3675 - accuracy: 0.8855 - val_loss: 0.7408 - val_accuracy: 0.8186\n",
      "Epoch 19/30\n",
      "1191/1191 [==============================] - 39s 33ms/step - loss: 0.2171 - accuracy: 0.9325 - val_loss: 0.8080 - val_accuracy: 0.8005\n",
      "Epoch 20/30\n",
      "1191/1191 [==============================] - 39s 33ms/step - loss: 0.2463 - accuracy: 0.9260 - val_loss: 0.8160 - val_accuracy: 0.7913\n",
      "Epoch 21/30\n",
      "1191/1191 [==============================] - 39s 33ms/step - loss: 0.1952 - accuracy: 0.9405 - val_loss: 0.8014 - val_accuracy: 0.8203\n",
      "Epoch 22/30\n",
      "1191/1191 [==============================] - 39s 33ms/step - loss: 0.1861 - accuracy: 0.9438 - val_loss: 0.7976 - val_accuracy: 0.8055\n",
      "Epoch 23/30\n",
      "1191/1191 [==============================] - 39s 33ms/step - loss: 0.2001 - accuracy: 0.9394 - val_loss: 0.8413 - val_accuracy: 0.8134\n",
      "Epoch 24/30\n",
      "1191/1191 [==============================] - 39s 33ms/step - loss: 0.1975 - accuracy: 0.9417 - val_loss: 0.7961 - val_accuracy: 0.7937\n",
      "Epoch 25/30\n",
      "1191/1191 [==============================] - 39s 33ms/step - loss: 0.1883 - accuracy: 0.9441 - val_loss: 0.8989 - val_accuracy: 0.8088\n",
      "Epoch 26/30\n",
      "1191/1191 [==============================] - 39s 33ms/step - loss: 0.2440 - accuracy: 0.9263 - val_loss: 0.7738 - val_accuracy: 0.7950\n",
      "Epoch 27/30\n",
      "1191/1191 [==============================] - 39s 33ms/step - loss: 0.1819 - accuracy: 0.9448 - val_loss: 0.8361 - val_accuracy: 0.8134\n",
      "Epoch 28/30\n",
      "1191/1191 [==============================] - 39s 33ms/step - loss: 0.1293 - accuracy: 0.9627 - val_loss: 0.8133 - val_accuracy: 0.8248\n",
      "Epoch 29/30\n",
      "1191/1191 [==============================] - 39s 33ms/step - loss: 0.2130 - accuracy: 0.9392 - val_loss: 0.7639 - val_accuracy: 0.8032\n",
      "Epoch 30/30\n",
      "1191/1191 [==============================] - 39s 33ms/step - loss: 0.1334 - accuracy: 0.9603 - val_loss: 0.8486 - val_accuracy: 0.8241\n"
     ]
    },
    {
     "data": {
      "text/plain": [
       "<tensorflow.python.keras.callbacks.History at 0x7f827024fd68>"
      ]
     },
     "execution_count": 28,
     "metadata": {
      "tags": []
     },
     "output_type": "execute_result"
    }
   ],
   "source": [
    "model.fit(X_train, Y_train, epochs=30, batch_size=42,validation_data=(X_test, Y_test))"
   ]
  },
  {
   "cell_type": "code",
   "execution_count": 29,
   "metadata": {
    "colab": {
     "base_uri": "https://localhost:8080/",
     "height": 34
    },
    "colab_type": "code",
    "id": "VVySswVxIgIg",
    "outputId": "febbab00-0814-4cf6-9040-f6de6f084a9f"
   },
   "outputs": [
    {
     "name": "stdout",
     "output_type": "stream",
     "text": [
      "313/313 [==============================] - 3s 8ms/step - loss: 0.8486 - accuracy: 0.8241\n"
     ]
    }
   ],
   "source": [
    "pred = model.evaluate(X_test, Y_test)\n",
    "accuracy_test=pred[1]"
   ]
  },
  {
   "cell_type": "markdown",
   "metadata": {
    "colab_type": "text",
    "id": "UzXV_rQkJGw5"
   },
   "source": [
    "It is clear that the model is getting overfit,So we have to manage it,I can try it out many ideas like **:**\n",
    "\n",
    "1.   Using Dropout\n",
    "2.   List Try Different Model\n",
    "3.   In pace of Random intilation of the Dense layer we can intilize by different way\n",
    "4.   Using Different CostFunction\n",
    "5.   Hyperparameter tunning by different ways(Grid,Random)\n",
    "\n"
   ]
  },
  {
   "cell_type": "code",
   "execution_count": 29,
   "metadata": {
    "colab": {},
    "colab_type": "code",
    "id": "CS46xhve2gVJ"
   },
   "outputs": [],
   "source": []
  }
 ],
 "metadata": {
  "accelerator": "GPU",
  "colab": {
   "name": "Untitled17.ipynb",
   "provenance": []
  },
  "kernelspec": {
   "display_name": "Python 3",
   "language": "python",
   "name": "python3"
  },
  "language_info": {
   "codemirror_mode": {
    "name": "ipython",
    "version": 3
   },
   "file_extension": ".py",
   "mimetype": "text/x-python",
   "name": "python",
   "nbconvert_exporter": "python",
   "pygments_lexer": "ipython3",
   "version": "3.7.6"
  }
 },
 "nbformat": 4,
 "nbformat_minor": 1
}

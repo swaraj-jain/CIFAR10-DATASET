{
  "nbformat": 4,
  "nbformat_minor": 0,
  "metadata": {
    "colab": {
      "name": "Untitled17.ipynb",
      "provenance": [],
      "collapsed_sections": []
    },
    "kernelspec": {
      "name": "python3",
      "display_name": "Python 3"
    },
    "accelerator": "GPU"
  },
  "cells": [
    {
      "cell_type": "code",
      "metadata": {
        "id": "Je57VYRB-BVQ",
        "colab_type": "code",
        "colab": {}
      },
      "source": [
        "import numpy as np\n",
        "import pandas as pd\n",
        "from keras.datasets import cifar10\n",
        "from keras.models import Sequential\n",
        "from keras.layers import Conv2D, MaxPooling2D, Flatten, Dense, InputLayer, BatchNormalization, Dropout\n",
        "from keras.utils import np_utils\n",
        "from keras.applications import VGG16\n",
        "import matplotlib.pyplot as plt\n",
        "from matplotlib.pyplot import imshow\n",
        "from tensorflow.keras.applications.resnet50 import ResNet50\n",
        "from tensorflow.keras.applications.inception_v3 import InceptionV3\n",
        "from tensorflow.keras.preprocessing import image\n",
        "from tensorflow.keras.models import Model\n",
        "from tensorflow.keras.layers import Dense, GlobalAveragePooling2D\n",
        "from keras.regularizers import l2"
      ],
      "execution_count": 1,
      "outputs": []
    },
    {
      "cell_type": "code",
      "metadata": {
        "id": "oxiSUgfx-MjU",
        "colab_type": "code",
        "colab": {}
      },
      "source": [
        "(X_train, y_train), (X_test, y_test) = cifar10.load_data()"
      ],
      "execution_count": 2,
      "outputs": []
    },
    {
      "cell_type": "code",
      "metadata": {
        "id": "NNL5bXyR-uDC",
        "colab_type": "code",
        "colab": {
          "base_uri": "https://localhost:8080/",
          "height": 34
        },
        "outputId": "6977be04-2fbf-4387-ad91-f930449f58cd"
      },
      "source": [
        "X_train.shape"
      ],
      "execution_count": 3,
      "outputs": [
        {
          "output_type": "execute_result",
          "data": {
            "text/plain": [
              "(50000, 32, 32, 3)"
            ]
          },
          "metadata": {
            "tags": []
          },
          "execution_count": 3
        }
      ]
    },
    {
      "cell_type": "code",
      "metadata": {
        "id": "xlXlzBkh-yvG",
        "colab_type": "code",
        "colab": {
          "base_uri": "https://localhost:8080/",
          "height": 34
        },
        "outputId": "139acc9a-c0e4-482d-85c7-dc1014ef5e89"
      },
      "source": [
        "y_train.shape"
      ],
      "execution_count": 4,
      "outputs": [
        {
          "output_type": "execute_result",
          "data": {
            "text/plain": [
              "(50000, 1)"
            ]
          },
          "metadata": {
            "tags": []
          },
          "execution_count": 4
        }
      ]
    },
    {
      "cell_type": "code",
      "metadata": {
        "id": "BZHdc0wd-1Dp",
        "colab_type": "code",
        "colab": {
          "base_uri": "https://localhost:8080/",
          "height": 34
        },
        "outputId": "c243eb3e-6a96-4f02-b2f3-dafc89267295"
      },
      "source": [
        "X_test.shape"
      ],
      "execution_count": 5,
      "outputs": [
        {
          "output_type": "execute_result",
          "data": {
            "text/plain": [
              "(10000, 32, 32, 3)"
            ]
          },
          "metadata": {
            "tags": []
          },
          "execution_count": 5
        }
      ]
    },
    {
      "cell_type": "code",
      "metadata": {
        "id": "zOV5sERTJ_nd",
        "colab_type": "code",
        "colab": {
          "base_uri": "https://localhost:8080/",
          "height": 283
        },
        "outputId": "d2921465-e9d6-4732-b3da-6dd38a06176a"
      },
      "source": [
        "plt.imshow(X_train[0])"
      ],
      "execution_count": 6,
      "outputs": [
        {
          "output_type": "execute_result",
          "data": {
            "text/plain": [
              "<matplotlib.image.AxesImage at 0x7f2be970f9b0>"
            ]
          },
          "metadata": {
            "tags": []
          },
          "execution_count": 6
        },
        {
          "output_type": "display_data",
          "data": {
            "image/png": "[encoded data removed]",
            "text/plain": [
              "<Figure size 432x288 with 1 Axes>"
            ]
          },
          "metadata": {
            "tags": [],
            "needs_background": "light"
          }
        }
      ]
    },
    {
      "cell_type": "code",
      "metadata": {
        "id": "9Wao42mU-3kr",
        "colab_type": "code",
        "colab": {}
      },
      "source": [
        "X_train=X_train.astype('float32')\n",
        "X_test=X_test.astype('float32')\n",
        "X_train/=255\n",
        "X_test/=255"
      ],
      "execution_count": 7,
      "outputs": []
    },
    {
      "cell_type": "code",
      "metadata": {
        "id": "SMWC2iJjKJNH",
        "colab_type": "code",
        "colab": {
          "base_uri": "https://localhost:8080/",
          "height": 283
        },
        "outputId": "98a3aa51-398d-4d06-b064-a269b90d5872"
      },
      "source": [
        "plt.imshow(X_train[0])"
      ],
      "execution_count": 8,
      "outputs": [
        {
          "output_type": "execute_result",
          "data": {
            "text/plain": [
              "<matplotlib.image.AxesImage at 0x7f2be91e5828>"
            ]
          },
          "metadata": {
            "tags": []
          },
          "execution_count": 8
        },
        {
          "output_type": "display_data",
          "data": {
            "image/png": "[encoded data removed]",
            "text/plain": [
              "<Figure size 432x288 with 1 Axes>"
            ]
          },
          "metadata": {
            "tags": [],
            "needs_background": "light"
          }
        }
      ]
    },
    {
      "cell_type": "markdown",
      "metadata": {
        "id": "tCsfOjBaBgdw",
        "colab_type": "text"
      },
      "source": [
        "\n",
        "one-hot encoding is done to coonert the given data to categorical data"
      ]
    },
    {
      "cell_type": "code",
      "metadata": {
        "id": "MhQfptR9_T0q",
        "colab_type": "code",
        "colab": {}
      },
      "source": [
        "Y_train = np_utils.to_categorical(y_train, 10)\n",
        "Y_test = np_utils.to_categorical(y_test, 10)"
      ],
      "execution_count": 9,
      "outputs": []
    },
    {
      "cell_type": "code",
      "metadata": {
        "id": "hMuBCt_YAbGg",
        "colab_type": "code",
        "colab": {
          "base_uri": "https://localhost:8080/",
          "height": 34
        },
        "outputId": "50e22887-02fe-469b-bc9d-3a58dc90b28a"
      },
      "source": [
        "print(y_train[20])"
      ],
      "execution_count": 10,
      "outputs": [
        {
          "output_type": "stream",
          "text": [
            "[4]\n"
          ],
          "name": "stdout"
        }
      ]
    },
    {
      "cell_type": "code",
      "metadata": {
        "id": "xbu8QXsYAicf",
        "colab_type": "code",
        "colab": {
          "base_uri": "https://localhost:8080/",
          "height": 34
        },
        "outputId": "57710f5b-1e70-45f6-e231-662bff29a751"
      },
      "source": [
        "print(Y_train[2301])"
      ],
      "execution_count": 11,
      "outputs": [
        {
          "output_type": "stream",
          "text": [
            "[0. 0. 0. 0. 0. 0. 0. 1. 0. 0.]\n"
          ],
          "name": "stdout"
        }
      ]
    },
    {
      "cell_type": "markdown",
      "metadata": {
        "id": "KzOnsAirBtkU",
        "colab_type": "text"
      },
      "source": [
        "Initaliging the sequential Model"
      ]
    },
    {
      "cell_type": "code",
      "metadata": {
        "id": "QoQXcawxB02a",
        "colab_type": "code",
        "colab": {
          "base_uri": "https://localhost:8080/",
          "height": 867
        },
        "outputId": "e2ea381f-6766-4d02-b592-dd4f8546731e"
      },
      "source": [
        "model = Sequential()\n",
        "model.add(Conv2D(32, (3, 3), activation='relu', kernel_initializer='he_uniform', padding='same', input_shape=(32, 32, 3)))\n",
        "model.add(Conv2D(32, (3, 3), activation='relu', kernel_initializer='he_uniform', padding='same'))\n",
        "model.add(MaxPooling2D((2, 2)))\n",
        "model.add(Dropout(0.3))\n",
        "model.add(BatchNormalization(axis=3))\n",
        "model.add(Conv2D(64, (3, 3), activation='relu', kernel_initializer='he_uniform', padding='same'))\n",
        "model.add(Conv2D(64, (3, 3), activation='relu', kernel_initializer='he_uniform', padding='same'))\n",
        "model.add(MaxPooling2D((2, 2)))\n",
        "model.add(Dropout(0.3))\n",
        "model.add(BatchNormalization(axis=3))\n",
        "model.add(Conv2D(128, (3, 3), activation='relu', kernel_initializer='he_uniform', padding='same'))\n",
        "model.add(Conv2D(128, (3, 3), activation='relu', kernel_initializer='he_uniform', padding='same'))\n",
        "model.add(MaxPooling2D((2, 2)))\n",
        "model.add(Dropout(0.3))\n",
        "model.add(BatchNormalization(axis=3))\n",
        "model.add(Flatten())\n",
        "model.add(Dense(512, activation='relu', kernel_initializer='he_uniform'))\n",
        "model.add(Dropout(0.5))\n",
        "model.add(Dense(128, activation='relu', kernel_initializer='he_uniform'))\n",
        "model.add(Dropout(0.5))\n",
        "model.add(Dense(10, activation='softmax'))\n",
        "model.summary()"
      ],
      "execution_count": 14,
      "outputs": [
        {
          "output_type": "stream",
          "text": [
            "Model: \"sequential\"\n",
            "_________________________________________________________________\n",
            "Layer (type)                 Output Shape              Param #   \n",
            "=================================================================\n",
            "conv2d (Conv2D)              (None, 32, 32, 32)        896       \n",
            "_________________________________________________________________\n",
            "conv2d_1 (Conv2D)            (None, 32, 32, 32)        9248      \n",
            "_________________________________________________________________\n",
            "max_pooling2d (MaxPooling2D) (None, 16, 16, 32)        0         \n",
            "_________________________________________________________________\n",
            "dropout (Dropout)            (None, 16, 16, 32)        0         \n",
            "_________________________________________________________________\n",
            "batch_normalization (BatchNo (None, 16, 16, 32)        128       \n",
            "_________________________________________________________________\n",
            "conv2d_2 (Conv2D)            (None, 16, 16, 64)        18496     \n",
            "_________________________________________________________________\n",
            "conv2d_3 (Conv2D)            (None, 16, 16, 64)        36928     \n",
            "_________________________________________________________________\n",
            "max_pooling2d_1 (MaxPooling2 (None, 8, 8, 64)          0         \n",
            "_________________________________________________________________\n",
            "dropout_1 (Dropout)          (None, 8, 8, 64)          0         \n",
            "_________________________________________________________________\n",
            "batch_normalization_1 (Batch (None, 8, 8, 64)          256       \n",
            "_________________________________________________________________\n",
            "conv2d_4 (Conv2D)            (None, 8, 8, 128)         73856     \n",
            "_________________________________________________________________\n",
            "conv2d_5 (Conv2D)            (None, 8, 8, 128)         147584    \n",
            "_________________________________________________________________\n",
            "max_pooling2d_2 (MaxPooling2 (None, 4, 4, 128)         0         \n",
            "_________________________________________________________________\n",
            "dropout_2 (Dropout)          (None, 4, 4, 128)         0         \n",
            "_________________________________________________________________\n",
            "batch_normalization_2 (Batch (None, 4, 4, 128)         512       \n",
            "_________________________________________________________________\n",
            "flatten (Flatten)            (None, 2048)              0         \n",
            "_________________________________________________________________\n",
            "dense (Dense)                (None, 512)               1049088   \n",
            "_________________________________________________________________\n",
            "dropout_3 (Dropout)          (None, 512)               0         \n",
            "_________________________________________________________________\n",
            "dense_1 (Dense)              (None, 128)               65664     \n",
            "_________________________________________________________________\n",
            "dropout_4 (Dropout)          (None, 128)               0         \n",
            "_________________________________________________________________\n",
            "dense_2 (Dense)              (None, 10)                1290      \n",
            "=================================================================\n",
            "Total params: 1,403,946\n",
            "Trainable params: 1,403,498\n",
            "Non-trainable params: 448\n",
            "_________________________________________________________________\n"
          ],
          "name": "stdout"
        }
      ]
    },
    {
      "cell_type": "code",
      "metadata": {
        "id": "kYWfD8MhHtBb",
        "colab_type": "code",
        "colab": {}
      },
      "source": [
        "model.compile(optimizer='adam', loss='categorical_crossentropy', metrics=['accuracy'])"
      ],
      "execution_count": 15,
      "outputs": []
    },
    {
      "cell_type": "code",
      "metadata": {
        "id": "uTM9kpGrIJwc",
        "colab_type": "code",
        "colab": {
          "base_uri": "https://localhost:8080/",
          "height": 1000
        },
        "outputId": "5a9caa76-8f92-4b54-f94a-310dc90d0db8"
      },
      "source": [
        "history=model.fit(X_train, Y_train, epochs=35, batch_size=32,validation_data=(X_test, Y_test))"
      ],
      "execution_count": 16,
      "outputs": [
        {
          "output_type": "stream",
          "text": [
            "Epoch 1/35\n",
            "1563/1563 [==============================] - 9s 6ms/step - loss: 1.9306 - accuracy: 0.2881 - val_loss: 1.4862 - val_accuracy: 0.4536\n",
            "Epoch 2/35\n",
            "1563/1563 [==============================] - 9s 6ms/step - loss: 1.4897 - accuracy: 0.4606 - val_loss: 1.1913 - val_accuracy: 0.5752\n",
            "Epoch 3/35\n",
            "1563/1563 [==============================] - 9s 6ms/step - loss: 1.2458 - accuracy: 0.5668 - val_loss: 1.0797 - val_accuracy: 0.6278\n",
            "Epoch 4/35\n",
            "1563/1563 [==============================] - 9s 6ms/step - loss: 1.0905 - accuracy: 0.6281 - val_loss: 0.9189 - val_accuracy: 0.6862\n",
            "Epoch 5/35\n",
            "1563/1563 [==============================] - 9s 6ms/step - loss: 0.9924 - accuracy: 0.6639 - val_loss: 0.8622 - val_accuracy: 0.7040\n",
            "Epoch 6/35\n",
            "1563/1563 [==============================] - 9s 6ms/step - loss: 0.9197 - accuracy: 0.6899 - val_loss: 0.8105 - val_accuracy: 0.7249\n",
            "Epoch 7/35\n",
            "1563/1563 [==============================] - 9s 6ms/step - loss: 0.8623 - accuracy: 0.7130 - val_loss: 0.7313 - val_accuracy: 0.7463\n",
            "Epoch 8/35\n",
            "1563/1563 [==============================] - 9s 6ms/step - loss: 0.8127 - accuracy: 0.7276 - val_loss: 0.7010 - val_accuracy: 0.7628\n",
            "Epoch 9/35\n",
            "1563/1563 [==============================] - 9s 6ms/step - loss: 0.7728 - accuracy: 0.7425 - val_loss: 0.6536 - val_accuracy: 0.7840\n",
            "Epoch 10/35\n",
            "1563/1563 [==============================] - 9s 6ms/step - loss: 0.7364 - accuracy: 0.7524 - val_loss: 0.6462 - val_accuracy: 0.7818\n",
            "Epoch 11/35\n",
            "1563/1563 [==============================] - 9s 6ms/step - loss: 0.7056 - accuracy: 0.7664 - val_loss: 0.6589 - val_accuracy: 0.7863\n",
            "Epoch 12/35\n",
            "1563/1563 [==============================] - 9s 6ms/step - loss: 0.6764 - accuracy: 0.7753 - val_loss: 0.5869 - val_accuracy: 0.8022\n",
            "Epoch 13/35\n",
            "1563/1563 [==============================] - 9s 6ms/step - loss: 0.6481 - accuracy: 0.7826 - val_loss: 0.6254 - val_accuracy: 0.7913\n",
            "Epoch 14/35\n",
            "1563/1563 [==============================] - 9s 6ms/step - loss: 0.6251 - accuracy: 0.7931 - val_loss: 0.5927 - val_accuracy: 0.8072\n",
            "Epoch 15/35\n",
            "1563/1563 [==============================] - 9s 6ms/step - loss: 0.6017 - accuracy: 0.8003 - val_loss: 0.5626 - val_accuracy: 0.8125\n",
            "Epoch 16/35\n",
            "1563/1563 [==============================] - 9s 6ms/step - loss: 0.5844 - accuracy: 0.8058 - val_loss: 0.5841 - val_accuracy: 0.8090\n",
            "Epoch 17/35\n",
            "1563/1563 [==============================] - 9s 6ms/step - loss: 0.5608 - accuracy: 0.8132 - val_loss: 0.5509 - val_accuracy: 0.8173\n",
            "Epoch 18/35\n",
            "1563/1563 [==============================] - 9s 6ms/step - loss: 0.5559 - accuracy: 0.8175 - val_loss: 0.5257 - val_accuracy: 0.8244\n",
            "Epoch 19/35\n",
            "1563/1563 [==============================] - 9s 6ms/step - loss: 0.5403 - accuracy: 0.8194 - val_loss: 0.6414 - val_accuracy: 0.7978\n",
            "Epoch 20/35\n",
            "1563/1563 [==============================] - 9s 6ms/step - loss: 0.5181 - accuracy: 0.8274 - val_loss: 0.5417 - val_accuracy: 0.8246\n",
            "Epoch 21/35\n",
            "1563/1563 [==============================] - 9s 6ms/step - loss: 0.5010 - accuracy: 0.8322 - val_loss: 0.5517 - val_accuracy: 0.8140\n",
            "Epoch 22/35\n",
            "1563/1563 [==============================] - 9s 6ms/step - loss: 0.5000 - accuracy: 0.8344 - val_loss: 0.5340 - val_accuracy: 0.8271\n",
            "Epoch 23/35\n",
            "1563/1563 [==============================] - 9s 6ms/step - loss: 0.4926 - accuracy: 0.8352 - val_loss: 0.5090 - val_accuracy: 0.8368\n",
            "Epoch 24/35\n",
            "1563/1563 [==============================] - 9s 6ms/step - loss: 0.4749 - accuracy: 0.8435 - val_loss: 0.5262 - val_accuracy: 0.8278\n",
            "Epoch 25/35\n",
            "1563/1563 [==============================] - 9s 6ms/step - loss: 0.4745 - accuracy: 0.8429 - val_loss: 0.5061 - val_accuracy: 0.8384\n",
            "Epoch 26/35\n",
            "1563/1563 [==============================] - 9s 6ms/step - loss: 0.4588 - accuracy: 0.8475 - val_loss: 0.5460 - val_accuracy: 0.8227\n",
            "Epoch 27/35\n",
            "1563/1563 [==============================] - 9s 6ms/step - loss: 0.4523 - accuracy: 0.8482 - val_loss: 0.4867 - val_accuracy: 0.8453\n",
            "Epoch 28/35\n",
            "1563/1563 [==============================] - 9s 6ms/step - loss: 0.4384 - accuracy: 0.8530 - val_loss: 0.4963 - val_accuracy: 0.8462\n",
            "Epoch 29/35\n",
            "1563/1563 [==============================] - 9s 6ms/step - loss: 0.4281 - accuracy: 0.8560 - val_loss: 0.4975 - val_accuracy: 0.8445\n",
            "Epoch 30/35\n",
            "1563/1563 [==============================] - 9s 6ms/step - loss: 0.4208 - accuracy: 0.8602 - val_loss: 0.5192 - val_accuracy: 0.8354\n",
            "Epoch 31/35\n",
            "1563/1563 [==============================] - 9s 6ms/step - loss: 0.4207 - accuracy: 0.8603 - val_loss: 0.5232 - val_accuracy: 0.8332\n",
            "Epoch 32/35\n",
            "1563/1563 [==============================] - 9s 6ms/step - loss: 0.4134 - accuracy: 0.8639 - val_loss: 0.4798 - val_accuracy: 0.8493\n",
            "Epoch 33/35\n",
            "1563/1563 [==============================] - 9s 6ms/step - loss: 0.4071 - accuracy: 0.8625 - val_loss: 0.4886 - val_accuracy: 0.8499\n",
            "Epoch 34/35\n",
            "1563/1563 [==============================] - 9s 6ms/step - loss: 0.4025 - accuracy: 0.8669 - val_loss: 0.5316 - val_accuracy: 0.8333\n",
            "Epoch 35/35\n",
            "1563/1563 [==============================] - 9s 6ms/step - loss: 0.3899 - accuracy: 0.8695 - val_loss: 0.4895 - val_accuracy: 0.8499\n"
          ],
          "name": "stdout"
        }
      ]
    },
    {
      "cell_type": "code",
      "metadata": {
        "id": "o2kF67AOV-rm",
        "colab_type": "code",
        "colab": {}
      },
      "source": [
        "def summarize_diagnostics(history):\n",
        "\t# plot loss\n",
        "\tplt.subplot(211)\n",
        "\tplt.title('Cross Entropy Loss')\n",
        "\tplt.plot(history.history['loss'], color='blue', label='train')\n",
        "\tplt.plot(history.history['val_loss'], color='orange', label='test')\n",
        "\t# plot accuracy\n",
        "\tplt.subplot(212)\n",
        "\tplt.title('Classification Accuracy')\n",
        "\tplt.plot(history.history['accuracy'], color='blue', label='train')\n",
        "\tplt.plot(history.history['val_accuracy'], color='orange', label='test')\n",
        "\t"
      ],
      "execution_count": 17,
      "outputs": []
    },
    {
      "cell_type": "code",
      "metadata": {
        "id": "kw1vByXdV_qE",
        "colab_type": "code",
        "colab": {
          "base_uri": "https://localhost:8080/",
          "height": 281
        },
        "outputId": "1394051d-b4fe-41b1-e9a4-cf90ceb3a042"
      },
      "source": [
        "summarize_diagnostics(history)"
      ],
      "execution_count": 18,
      "outputs": [
        {
          "output_type": "display_data",
          "data": {
            "image/png": "[encoded data removed]",
            "text/plain": [
              "<Figure size 432x288 with 2 Axes>"
            ]
          },
          "metadata": {
            "tags": [],
            "needs_background": "light"
          }
        }
      ]
    },
    {
      "cell_type": "code",
      "metadata": {
        "id": "VVySswVxIgIg",
        "colab_type": "code",
        "colab": {
          "base_uri": "https://localhost:8080/",
          "height": 34
        },
        "outputId": "4e43ed33-018a-4ee6-fff8-e03677f0bb65"
      },
      "source": [
        "pred = model.evaluate(X_test, Y_test)\n",
        "accuracy_test=pred[1]"
      ],
      "execution_count": 19,
      "outputs": [
        {
          "output_type": "stream",
          "text": [
            "313/313 [==============================] - 1s 3ms/step - loss: 0.4895 - accuracy: 0.8499\n"
          ],
          "name": "stdout"
        }
      ]
    },
    {
      "cell_type": "code",
      "metadata": {
        "id": "yu8dzrBYL_Rb",
        "colab_type": "code",
        "colab": {}
      },
      "source": [
        "x_test_predict=model.predict(X_test)"
      ],
      "execution_count": 20,
      "outputs": []
    },
    {
      "cell_type": "code",
      "metadata": {
        "id": "6UuSbX3LMalW",
        "colab_type": "code",
        "colab": {
          "base_uri": "https://localhost:8080/",
          "height": 317
        },
        "outputId": "c0cf5d76-88e0-4d67-a1ef-97adf078b80d"
      },
      "source": [
        "\n",
        "print(plt.imshow(X_test[0]))\n",
        "print(np.argmax(Y_test[0]))\n",
        "print(np.argmax(x_test_predict[0]))"
      ],
      "execution_count": 21,
      "outputs": [
        {
          "output_type": "stream",
          "text": [
            "AxesImage(54,36;334.8x217.44)\n",
            "3\n",
            "3\n"
          ],
          "name": "stdout"
        },
        {
          "output_type": "display_data",
          "data": {
            "image/png": "[encoded data removed]",
            "text/plain": [
              "<Figure size 432x288 with 1 Axes>"
            ]
          },
          "metadata": {
            "tags": [],
            "needs_background": "light"
          }
        }
      ]
    },
    {
      "cell_type": "markdown",
      "metadata": {
        "id": "UzXV_rQkJGw5",
        "colab_type": "text"
      },
      "source": [
        "Procedure help me to decrease overfit **:**\n",
        "\n",
        "1.   Using Dropout--Help me to increase a good test accuracy as it was seen the previous VGG16 model was getting completely overfit.\n",
        "2.   In pace of Random intilation of the Dense layer we can intilize by different way--he intilalizer   \n",
        "3.   I have also tried weight decay but that doesnot help me\n",
        "\n",
        "This can Also be tried out\n",
        "1.   Using Different CostFunction\n",
        "2.   Hyperparameter tunning by different ways(Grid,Random)\n",
        "3.   Dataaugmention can also be persorm by increasing the dropout probality\n",
        "\n",
        "\n"
      ]
    },
    {
      "cell_type": "code",
      "metadata": {
        "id": "bjOmLo2Gg1_X",
        "colab_type": "code",
        "colab": {}
      },
      "source": [
        ""
      ],
      "execution_count": null,
      "outputs": []
    }
  ]
}